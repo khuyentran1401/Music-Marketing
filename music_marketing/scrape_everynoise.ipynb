{
 "cells": [
  {
   "cell_type": "markdown",
   "metadata": {},
   "source": [
    "# Everyscrape\n",
    "\n",
    "In this notebook we collect and visualize data on which genres are popular in which cities, the rankings of which cities have the most spotify listeners (from first to last), and additional information on cities such as lat-long and population. "
   ]
  },
  {
   "cell_type": "code",
   "execution_count": 4,
   "metadata": {},
   "outputs": [],
   "source": [
    "import os\n",
    "import everyscrape\n",
    "import pandas as pd\n",
    "\n",
    "# useful during dev\n",
    "from importlib import reload\n",
    "everyscrape = reload(everyscrape)"
   ]
  },
  {
   "cell_type": "markdown",
   "metadata": {},
   "source": [
    "<br>***Import the country codes and scrape a link of cities from the website:***"
   ]
  },
  {
   "cell_type": "code",
   "execution_count": null,
   "metadata": {},
   "outputs": [],
   "source": [
    "# import a csv file that matches country names to country codes \n",
    "country_codes = pd.read_csv(os.getcwd()+'/data/country_codes.csv', encoding = \"ISO-8859-1\")\n",
    "country_codes.columns = ['Country','Country Code', 'Country Code 3']   \n",
    "\n",
    "# get the links with all the cities \n",
    "links = everyscrape.get_cities()                                       \n",
    "print(str(len(links)),\" links\")"
   ]
  },
  {
   "cell_type": "markdown",
   "metadata": {},
   "source": [
    "<br>***Scrape each city link (this will take a while, use the `resume` option to pick up where you left off in case connection gets interrupted):***"
   ]
  },
  {
   "cell_type": "code",
   "execution_count": null,
   "metadata": {},
   "outputs": [],
   "source": [
    "# scrape the everynoise website for genre popularity \n",
    "everynoise_popularity = everyscrape.genre_popularity(links,            \n",
    "                                                     os.getcwd()+'/data/everynoise_popularity.csv')"
   ]
  },
  {
   "cell_type": "markdown",
   "metadata": {},
   "source": [
    "<br>***Read the saved data:***"
   ]
  },
  {
   "cell_type": "code",
   "execution_count": 19,
   "metadata": {},
   "outputs": [
    {
     "name": "stdout",
     "output_type": "stream",
     "text": [
      "2955  unique cities\n"
     ]
    },
    {
     "data": {
      "text/html": [
       "<div>\n",
       "<style scoped>\n",
       "    .dataframe tbody tr th:only-of-type {\n",
       "        vertical-align: middle;\n",
       "    }\n",
       "\n",
       "    .dataframe tbody tr th {\n",
       "        vertical-align: top;\n",
       "    }\n",
       "\n",
       "    .dataframe thead th {\n",
       "        text-align: right;\n",
       "    }\n",
       "</style>\n",
       "<table border=\"1\" class=\"dataframe\">\n",
       "  <thead>\n",
       "    <tr style=\"text-align: right;\">\n",
       "      <th></th>\n",
       "      <th>popularity</th>\n",
       "      <th>genre</th>\n",
       "      <th>city</th>\n",
       "      <th>country code</th>\n",
       "      <th>country</th>\n",
       "      <th>country code 3</th>\n",
       "      <th>cc_mrg</th>\n",
       "    </tr>\n",
       "  </thead>\n",
       "  <tbody>\n",
       "    <tr>\n",
       "      <th>55490</th>\n",
       "      <td>127</td>\n",
       "      <td>contemporary country</td>\n",
       "      <td>mesa arizona</td>\n",
       "      <td>US</td>\n",
       "      <td>united states</td>\n",
       "      <td>USA</td>\n",
       "      <td>both</td>\n",
       "    </tr>\n",
       "    <tr>\n",
       "      <th>55491</th>\n",
       "      <td>127</td>\n",
       "      <td>country</td>\n",
       "      <td>mesa arizona</td>\n",
       "      <td>US</td>\n",
       "      <td>united states</td>\n",
       "      <td>USA</td>\n",
       "      <td>both</td>\n",
       "    </tr>\n",
       "    <tr>\n",
       "      <th>55492</th>\n",
       "      <td>127</td>\n",
       "      <td>country road</td>\n",
       "      <td>mesa arizona</td>\n",
       "      <td>US</td>\n",
       "      <td>united states</td>\n",
       "      <td>USA</td>\n",
       "      <td>both</td>\n",
       "    </tr>\n",
       "    <tr>\n",
       "      <th>55493</th>\n",
       "      <td>123</td>\n",
       "      <td>modern country rock</td>\n",
       "      <td>mesa arizona</td>\n",
       "      <td>US</td>\n",
       "      <td>united states</td>\n",
       "      <td>USA</td>\n",
       "      <td>both</td>\n",
       "    </tr>\n",
       "    <tr>\n",
       "      <th>55494</th>\n",
       "      <td>119</td>\n",
       "      <td>pop rap</td>\n",
       "      <td>mesa arizona</td>\n",
       "      <td>US</td>\n",
       "      <td>united states</td>\n",
       "      <td>USA</td>\n",
       "      <td>both</td>\n",
       "    </tr>\n",
       "    <tr>\n",
       "      <th>55495</th>\n",
       "      <td>118</td>\n",
       "      <td>southern hip hop</td>\n",
       "      <td>mesa arizona</td>\n",
       "      <td>US</td>\n",
       "      <td>united states</td>\n",
       "      <td>USA</td>\n",
       "      <td>both</td>\n",
       "    </tr>\n",
       "    <tr>\n",
       "      <th>55496</th>\n",
       "      <td>117</td>\n",
       "      <td>rap</td>\n",
       "      <td>mesa arizona</td>\n",
       "      <td>US</td>\n",
       "      <td>united states</td>\n",
       "      <td>USA</td>\n",
       "      <td>both</td>\n",
       "    </tr>\n",
       "    <tr>\n",
       "      <th>55497</th>\n",
       "      <td>115</td>\n",
       "      <td>trap music</td>\n",
       "      <td>mesa arizona</td>\n",
       "      <td>US</td>\n",
       "      <td>united states</td>\n",
       "      <td>USA</td>\n",
       "      <td>both</td>\n",
       "    </tr>\n",
       "    <tr>\n",
       "      <th>55498</th>\n",
       "      <td>113</td>\n",
       "      <td>country rock</td>\n",
       "      <td>mesa arizona</td>\n",
       "      <td>US</td>\n",
       "      <td>united states</td>\n",
       "      <td>USA</td>\n",
       "      <td>both</td>\n",
       "    </tr>\n",
       "    <tr>\n",
       "      <th>55499</th>\n",
       "      <td>113</td>\n",
       "      <td>gangster rap</td>\n",
       "      <td>mesa arizona</td>\n",
       "      <td>US</td>\n",
       "      <td>united states</td>\n",
       "      <td>USA</td>\n",
       "      <td>both</td>\n",
       "    </tr>\n",
       "  </tbody>\n",
       "</table>\n",
       "</div>"
      ],
      "text/plain": [
       "       popularity                 genre          city country code  \\\n",
       "55490         127  contemporary country  mesa arizona           US   \n",
       "55491         127               country  mesa arizona           US   \n",
       "55492         127          country road  mesa arizona           US   \n",
       "55493         123   modern country rock  mesa arizona           US   \n",
       "55494         119               pop rap  mesa arizona           US   \n",
       "55495         118      southern hip hop  mesa arizona           US   \n",
       "55496         117                   rap  mesa arizona           US   \n",
       "55497         115            trap music  mesa arizona           US   \n",
       "55498         113          country rock  mesa arizona           US   \n",
       "55499         113          gangster rap  mesa arizona           US   \n",
       "\n",
       "             country country code 3 cc_mrg  \n",
       "55490  united states            USA   both  \n",
       "55491  united states            USA   both  \n",
       "55492  united states            USA   both  \n",
       "55493  united states            USA   both  \n",
       "55494  united states            USA   both  \n",
       "55495  united states            USA   both  \n",
       "55496  united states            USA   both  \n",
       "55497  united states            USA   both  \n",
       "55498  united states            USA   both  \n",
       "55499  united states            USA   both  "
      ]
     },
     "execution_count": 19,
     "metadata": {},
     "output_type": "execute_result"
    }
   ],
   "source": [
    " # import the saved data\n",
    "everynoise_popularity = pd.read_csv(os.getcwd()+'/data/everynoise_popularity.csv')  \n",
    "\n",
    "# remove any unlabeled data\n",
    "try:\n",
    "    everynoise_popularity = everynoise_popularity.drop([c for c in everynoise_popularity.columns if \"Unnamed\" in c], 1)\n",
    "except:\n",
    "    pass\n",
    "\n",
    "everyscrape.country_city_count(everynoise_popularity)        # check the number of unique cities \n",
    "\n",
    "# add the country codes to the everynoise data \n",
    "enpop = everynoise_popularity.merge(country_codes, on='Country Code', how='left', indicator=True)\n",
    "enpop = enpop.rename(columns={'_merge':'cc_mrg'})            # keep the merge variable\n",
    "enpop.columns = [c.lower() for c in enpop.columns]           # change the column names to lower case\n",
    "\n",
    "for c in ['city','country']:                                 # clean string variables\n",
    "    enpop[c] = enpop[c].str.lower()\n",
    "    enpop[c] = enpop[c].str.strip()\n",
    "enpop[55490:55500]"
   ]
  },
  {
   "cell_type": "markdown",
   "metadata": {},
   "source": [
    "<br>***Import the latitude and longitude for each city:***"
   ]
  },
  {
   "cell_type": "code",
   "execution_count": 112,
   "metadata": {},
   "outputs": [
    {
     "data": {
      "text/html": [
       "<div>\n",
       "<style scoped>\n",
       "    .dataframe tbody tr th:only-of-type {\n",
       "        vertical-align: middle;\n",
       "    }\n",
       "\n",
       "    .dataframe tbody tr th {\n",
       "        vertical-align: top;\n",
       "    }\n",
       "\n",
       "    .dataframe thead th {\n",
       "        text-align: right;\n",
       "    }\n",
       "</style>\n",
       "<table border=\"1\" class=\"dataframe\">\n",
       "  <thead>\n",
       "    <tr style=\"text-align: right;\">\n",
       "      <th></th>\n",
       "      <th>city</th>\n",
       "      <th>city_ascii</th>\n",
       "      <th>lat</th>\n",
       "      <th>lng</th>\n",
       "      <th>country</th>\n",
       "      <th>country code</th>\n",
       "      <th>country code 3</th>\n",
       "      <th>admin_name</th>\n",
       "      <th>capital</th>\n",
       "      <th>population</th>\n",
       "      <th>id</th>\n",
       "    </tr>\n",
       "  </thead>\n",
       "  <tbody>\n",
       "    <tr>\n",
       "      <th>0</th>\n",
       "      <td>malishevë</td>\n",
       "      <td>malisheve</td>\n",
       "      <td>42.4822</td>\n",
       "      <td>20.7458</td>\n",
       "      <td>kosovo</td>\n",
       "      <td>XK</td>\n",
       "      <td>XKS</td>\n",
       "      <td>malishevë</td>\n",
       "      <td>admin</td>\n",
       "      <td>NaN</td>\n",
       "      <td>1901597212</td>\n",
       "    </tr>\n",
       "    <tr>\n",
       "      <th>1</th>\n",
       "      <td>prizren</td>\n",
       "      <td>prizren</td>\n",
       "      <td>42.2139</td>\n",
       "      <td>20.7397</td>\n",
       "      <td>kosovo</td>\n",
       "      <td>XK</td>\n",
       "      <td>XKS</td>\n",
       "      <td>prizren</td>\n",
       "      <td>admin</td>\n",
       "      <td>NaN</td>\n",
       "      <td>1901360309</td>\n",
       "    </tr>\n",
       "  </tbody>\n",
       "</table>\n",
       "</div>"
      ],
      "text/plain": [
       "        city city_ascii      lat      lng country country code country code 3  \\\n",
       "0  malishevë  malisheve  42.4822  20.7458  kosovo           XK            XKS   \n",
       "1    prizren    prizren  42.2139  20.7397  kosovo           XK            XKS   \n",
       "\n",
       "  admin_name capital  population          id  \n",
       "0  malishevë   admin         NaN  1901597212  \n",
       "1    prizren   admin         NaN  1901360309  "
      ]
     },
     "execution_count": 112,
     "metadata": {},
     "output_type": "execute_result"
    }
   ],
   "source": [
    "worldcities = pd.read_csv(os.getcwd()+'/data/worldcities.csv')         # import the world cities data \n",
    "worldcities = worldcities.rename(columns={'iso2':'country code',       # rename the columns to make merging easier to code \n",
    "                                          'iso3':'country code 3'})\n",
    "\n",
    "for c in ['city','city_ascii','admin_name','country']:                 # clean string variables\n",
    "    worldcities[c] = worldcities[c].str.lower()\n",
    "    worldcities[c] = worldcities[c].str.strip()\n",
    "\n",
    "worldcities.head(2)"
   ]
  },
  {
   "cell_type": "markdown",
   "metadata": {},
   "source": [
    "<br>***Merge city data with everynoise data:***"
   ]
  },
  {
   "cell_type": "code",
   "execution_count": 372,
   "metadata": {},
   "outputs": [
    {
     "name": "stdout",
     "output_type": "stream",
     "text": [
      "Merged Rows: 62290\n",
      "Leftover Rows: 99\n"
     ]
    }
   ],
   "source": [
    "# merge the everynoise popularity and worldcities data\n",
    "enpop_cities, leftovers = everyscrape.fuzzy_city_merge(enpop, worldcities)\n",
    "enpop_cities = enpop_cities.drop(['_merge','city_ascii','admin_name'], 1)\n",
    "enpop_cities.to_csv(os.getcwd()+'/data/everycity.csv')\n",
    "\n",
    "print('Merged Rows:', str(len(enpop_cities)))\n",
    "print('Leftover Rows:', str(len(leftovers)))"
   ]
  },
  {
   "cell_type": "code",
   "execution_count": 201,
   "metadata": {},
   "outputs": [],
   "source": [
    "# load the data if you want \n",
    "enpop_cities = pd.read_csv(os.getcwd()+'/data/everycity.csv')\n",
    "enpop_cities = enpop_cities.drop('Unnamed: 0',1)"
   ]
  },
  {
   "cell_type": "markdown",
   "metadata": {},
   "source": [
    "<br>**Get city ranked by most spotify listeners**"
   ]
  },
  {
   "cell_type": "code",
   "execution_count": 114,
   "metadata": {},
   "outputs": [],
   "source": [
    "listened_to_cities = everyscrape.listeners_by_city()                 # get the ranking of each city based on listener volume\n",
    "listened_to_cities['city'] = listened_to_cities['city'].str.lower()  # format the city name strings \n",
    "listened_to_cities['city'] = listened_to_cities['city'].str.strip()"
   ]
  },
  {
   "cell_type": "markdown",
   "metadata": {},
   "source": [
    "<br>***Get the final merged dataset and get top genre ranks per city:***"
   ]
  },
  {
   "cell_type": "code",
   "execution_count": 207,
   "metadata": {},
   "outputs": [],
   "source": [
    "# create our final merged data for targeting\n",
    "everygenre = pd.merge(enpop_cities, listened_to_cities, on=['city','country code'], how='left')          \n",
    "\n",
    "# drop duplicates and sort values\n",
    "everygenre = everygenre.drop_duplicates(subset = ['city','country','genre','country code 3'])\n",
    "everygenre = everygenre.sort_values(['city','country','popularity'], ascending=[True,True,False])\n",
    "\n",
    "# get a genre list but remove charaters before hop so its not split with the preceding word \n",
    "everygenre['genre'] = everygenre['genre'].apply(lambda s: s.replace(' hop','hop').replace('-hop','hop'))\n",
    "\n",
    "# create a variable showing the rank of each variable in each city \n",
    "everygenre['top_genres'] = everygenre.groupby(['city','country'], as_index=False).cumcount()\n",
    "everygenre['top_genres'] = everygenre['top_genres']+1\n",
    "\n",
    "# save the everygenre dataset\n",
    "everygenre.to_csv(os.getcwd()+'/data/everygenre.csv')"
   ]
  },
  {
   "cell_type": "code",
   "execution_count": 5,
   "metadata": {},
   "outputs": [
    {
     "data": {
      "text/plain": [
       "1557"
      ]
     },
     "execution_count": 5,
     "metadata": {},
     "output_type": "execute_result"
    }
   ],
   "source": [
    "everygenre = pd.read_csv(os.getcwd()+'/data/everygenre.csv').drop('Unnamed: 0', 1)\n",
    "len(list(everygenre['genre'].value_counts()))"
   ]
  }
 ],
 "metadata": {
  "kernelspec": {
   "display_name": "Python 3",
   "language": "python",
   "name": "python3"
  },
  "language_info": {
   "codemirror_mode": {
    "name": "ipython",
    "version": 3
   },
   "file_extension": ".py",
   "mimetype": "text/x-python",
   "name": "python",
   "nbconvert_exporter": "python",
   "pygments_lexer": "ipython3",
   "version": "3.6.4"
  },
  "varInspector": {
   "cols": {
    "lenName": 16,
    "lenType": 16,
    "lenVar": 40
   },
   "kernels_config": {
    "python": {
     "delete_cmd_postfix": "",
     "delete_cmd_prefix": "del ",
     "library": "var_list.py",
     "varRefreshCmd": "print(var_dic_list())"
    },
    "r": {
     "delete_cmd_postfix": ") ",
     "delete_cmd_prefix": "rm(",
     "library": "var_list.r",
     "varRefreshCmd": "cat(var_dic_list()) "
    }
   },
   "types_to_exclude": [
    "module",
    "function",
    "builtin_function_or_method",
    "instance",
    "_Feature"
   ],
   "window_display": false
  }
 },
 "nbformat": 4,
 "nbformat_minor": 2
}
